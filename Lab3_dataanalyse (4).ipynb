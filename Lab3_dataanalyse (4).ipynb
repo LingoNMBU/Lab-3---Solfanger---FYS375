{
 "cells": [
  {
   "cell_type": "code",
   "execution_count": 40,
   "metadata": {},
   "outputs": [],
   "source": [
    "import pandas as pd\n",
    "import numpy as np\n",
    "import matplotlib.pyplot as plt\n",
    "import sklearn.linear_model as sklinear"
   ]
  },
  {
   "cell_type": "code",
   "execution_count": 41,
   "metadata": {},
   "outputs": [],
   "source": [
    "data_2020 = pd.read_csv('Måledata_mars_juli_2020.csv', index_col = 'Time')\n",
    "data_2021 = pd.read_csv('Måledata_mars_juli_2021.csv',  index_col = 'Time')"
   ]
  },
  {
   "cell_type": "code",
   "execution_count": 42,
   "metadata": {},
   "outputs": [
    {
     "data": {
      "text/html": [
       "<div>\n",
       "<style scoped>\n",
       "    .dataframe tbody tr th:only-of-type {\n",
       "        vertical-align: middle;\n",
       "    }\n",
       "\n",
       "    .dataframe tbody tr th {\n",
       "        vertical-align: top;\n",
       "    }\n",
       "\n",
       "    .dataframe thead th {\n",
       "        text-align: right;\n",
       "    }\n",
       "</style>\n",
       "<table border=\"1\" class=\"dataframe\">\n",
       "  <thead>\n",
       "    <tr style=\"text-align: right;\">\n",
       "      <th></th>\n",
       "      <th>Irradiance (W/m2)</th>\n",
       "      <th>Ambient Temperature (C)</th>\n",
       "      <th>Inlet Temperature (C)</th>\n",
       "      <th>Mass flow (g/s)</th>\n",
       "      <th>Outlet Temperature (C)</th>\n",
       "    </tr>\n",
       "    <tr>\n",
       "      <th>Time</th>\n",
       "      <th></th>\n",
       "      <th></th>\n",
       "      <th></th>\n",
       "      <th></th>\n",
       "      <th></th>\n",
       "    </tr>\n",
       "  </thead>\n",
       "  <tbody>\n",
       "    <tr>\n",
       "      <th>2020-03-01 00:01:00</th>\n",
       "      <td>0.0</td>\n",
       "      <td>0.4</td>\n",
       "      <td>15.6</td>\n",
       "      <td>107.0</td>\n",
       "      <td>23.6</td>\n",
       "    </tr>\n",
       "    <tr>\n",
       "      <th>2020-03-01 00:02:00</th>\n",
       "      <td>0.0</td>\n",
       "      <td>0.4</td>\n",
       "      <td>15.6</td>\n",
       "      <td>107.0</td>\n",
       "      <td>23.6</td>\n",
       "    </tr>\n",
       "    <tr>\n",
       "      <th>2020-03-01 00:03:00</th>\n",
       "      <td>0.0</td>\n",
       "      <td>0.4</td>\n",
       "      <td>15.6</td>\n",
       "      <td>107.0</td>\n",
       "      <td>23.6</td>\n",
       "    </tr>\n",
       "    <tr>\n",
       "      <th>2020-03-01 00:04:00</th>\n",
       "      <td>0.0</td>\n",
       "      <td>0.4</td>\n",
       "      <td>15.6</td>\n",
       "      <td>107.0</td>\n",
       "      <td>23.6</td>\n",
       "    </tr>\n",
       "    <tr>\n",
       "      <th>2020-03-01 00:05:00</th>\n",
       "      <td>0.0</td>\n",
       "      <td>0.4</td>\n",
       "      <td>15.6</td>\n",
       "      <td>107.0</td>\n",
       "      <td>23.6</td>\n",
       "    </tr>\n",
       "    <tr>\n",
       "      <th>...</th>\n",
       "      <td>...</td>\n",
       "      <td>...</td>\n",
       "      <td>...</td>\n",
       "      <td>...</td>\n",
       "      <td>...</td>\n",
       "    </tr>\n",
       "    <tr>\n",
       "      <th>2020-07-31 23:55:00</th>\n",
       "      <td>-1.0</td>\n",
       "      <td>17.7</td>\n",
       "      <td>25.5</td>\n",
       "      <td>0.0</td>\n",
       "      <td>26.9</td>\n",
       "    </tr>\n",
       "    <tr>\n",
       "      <th>2020-07-31 23:56:00</th>\n",
       "      <td>-1.0</td>\n",
       "      <td>17.8</td>\n",
       "      <td>25.5</td>\n",
       "      <td>0.0</td>\n",
       "      <td>26.9</td>\n",
       "    </tr>\n",
       "    <tr>\n",
       "      <th>2020-07-31 23:57:00</th>\n",
       "      <td>-1.0</td>\n",
       "      <td>17.8</td>\n",
       "      <td>25.5</td>\n",
       "      <td>0.0</td>\n",
       "      <td>26.9</td>\n",
       "    </tr>\n",
       "    <tr>\n",
       "      <th>2020-07-31 23:58:00</th>\n",
       "      <td>-1.0</td>\n",
       "      <td>17.8</td>\n",
       "      <td>25.5</td>\n",
       "      <td>0.0</td>\n",
       "      <td>26.9</td>\n",
       "    </tr>\n",
       "    <tr>\n",
       "      <th>2020-07-31 23:59:00</th>\n",
       "      <td>-1.0</td>\n",
       "      <td>17.8</td>\n",
       "      <td>25.5</td>\n",
       "      <td>0.0</td>\n",
       "      <td>26.9</td>\n",
       "    </tr>\n",
       "  </tbody>\n",
       "</table>\n",
       "<p>220319 rows × 5 columns</p>\n",
       "</div>"
      ],
      "text/plain": [
       "                     Irradiance (W/m2)  Ambient Temperature (C)  \\\n",
       "Time                                                              \n",
       "2020-03-01 00:01:00                0.0                      0.4   \n",
       "2020-03-01 00:02:00                0.0                      0.4   \n",
       "2020-03-01 00:03:00                0.0                      0.4   \n",
       "2020-03-01 00:04:00                0.0                      0.4   \n",
       "2020-03-01 00:05:00                0.0                      0.4   \n",
       "...                                ...                      ...   \n",
       "2020-07-31 23:55:00               -1.0                     17.7   \n",
       "2020-07-31 23:56:00               -1.0                     17.8   \n",
       "2020-07-31 23:57:00               -1.0                     17.8   \n",
       "2020-07-31 23:58:00               -1.0                     17.8   \n",
       "2020-07-31 23:59:00               -1.0                     17.8   \n",
       "\n",
       "                     Inlet Temperature (C)  Mass flow (g/s)  \\\n",
       "Time                                                          \n",
       "2020-03-01 00:01:00                   15.6            107.0   \n",
       "2020-03-01 00:02:00                   15.6            107.0   \n",
       "2020-03-01 00:03:00                   15.6            107.0   \n",
       "2020-03-01 00:04:00                   15.6            107.0   \n",
       "2020-03-01 00:05:00                   15.6            107.0   \n",
       "...                                    ...              ...   \n",
       "2020-07-31 23:55:00                   25.5              0.0   \n",
       "2020-07-31 23:56:00                   25.5              0.0   \n",
       "2020-07-31 23:57:00                   25.5              0.0   \n",
       "2020-07-31 23:58:00                   25.5              0.0   \n",
       "2020-07-31 23:59:00                   25.5              0.0   \n",
       "\n",
       "                     Outlet Temperature (C)  \n",
       "Time                                         \n",
       "2020-03-01 00:01:00                    23.6  \n",
       "2020-03-01 00:02:00                    23.6  \n",
       "2020-03-01 00:03:00                    23.6  \n",
       "2020-03-01 00:04:00                    23.6  \n",
       "2020-03-01 00:05:00                    23.6  \n",
       "...                                     ...  \n",
       "2020-07-31 23:55:00                    26.9  \n",
       "2020-07-31 23:56:00                    26.9  \n",
       "2020-07-31 23:57:00                    26.9  \n",
       "2020-07-31 23:58:00                    26.9  \n",
       "2020-07-31 23:59:00                    26.9  \n",
       "\n",
       "[220319 rows x 5 columns]"
      ]
     },
     "execution_count": 42,
     "metadata": {},
     "output_type": "execute_result"
    }
   ],
   "source": [
    "#data for analyse\n",
    "data_2020"
   ]
  },
  {
   "cell_type": "code",
   "execution_count": 43,
   "metadata": {},
   "outputs": [],
   "source": [
    "#krav stilt i labmanual\n",
    "a93_limits = {'irr_norm_min' : 790, \n",
    "              'dif_irr_max' : 20, \n",
    "              'wind_min':2.2, 'wind_max': 4.5}\n",
    "\n",
    "equilibrium_diff_limits = {'irr_norm' : 32, \n",
    "                   'dif_irr' : 1.5,\n",
    "                   'water_in': 1,\n",
    "                   'mass_flow': 2}\n"
   ]
  },
  {
   "cell_type": "code",
   "execution_count": 44,
   "metadata": {},
   "outputs": [
    {
     "data": {
      "text/plain": [
       "Index(['Irradiance (W/m2)', 'Ambient Temperature (C)', 'Inlet Temperature (C)',\n",
       "       'Mass flow (g/s)', 'Outlet Temperature (C)'],\n",
       "      dtype='object')"
      ]
     },
     "execution_count": 44,
     "metadata": {},
     "output_type": "execute_result"
    }
   ],
   "source": [
    "data_2020.columns"
   ]
  },
  {
   "cell_type": "code",
   "execution_count": 45,
   "metadata": {},
   "outputs": [],
   "source": [
    "# Krav som er i data\n",
    "limits = {'irr_min' : a93_limits['irr_norm_min']}\n",
    "\n",
    "diff_limits = {'irr_norm' : 32,\n",
    "               'amb_temp': 1.5,\n",
    "               'water_temp_in': 1,\n",
    "               'mass_flow': 2}"
   ]
  },
  {
   "cell_type": "code",
   "execution_count": 46,
   "metadata": {},
   "outputs": [],
   "source": [
    "def find_intervals(df, limits, diff_limits, period= 15):\n",
    "    \"\"\"\n",
    "    period: minutes\n",
    "    df: dataframe, each step is a minute\n",
    "    limits: dictionary of countinous limits\n",
    "    diff_limits: dictionary of limits of variation in interval\n",
    "    \"\"\"\n",
    "    #continual limit\n",
    "    irr_min_lim = limits['irr_min']\n",
    "    \n",
    "    #variance limits\n",
    "    irr_diff_lim = diff_limits['irr_norm']\n",
    "    T_amb_diff_lim = diff_limits['amb_temp']\n",
    "    T_wtr_diff_lim = diff_limits['water_temp_in']\n",
    "    flow_diff_lim = diff_limits['mass_flow']\n",
    "    \n",
    "    #initialization\n",
    "    \n",
    "    #list of valid intervals\n",
    "    intervals = []\n",
    "    #Temporary storage for current interval\n",
    "    interval = []\n",
    "    #index\n",
    "    i = 0\n",
    "    #valid interval length tracker\n",
    "    interval_len = 0\n",
    "    \n",
    "    #loop\n",
    "    while i < len(df.index):     \n",
    "        \n",
    "        irr = df.iloc[i]['Irradiance (W/m2)']     \n",
    "        if irr > irr_min_lim:\n",
    "            # Appends datapoint to current interval if irradiance treshold met\n",
    "            interval.append(i)\n",
    "            interval_len += 1\n",
    "        else:\n",
    "            # counter and current interval\n",
    "            interval_len = 0\n",
    "            interval = []\n",
    "            \n",
    "        if interval_len == 15:\n",
    "            #At this point we have an interval of 15 points meeting point thresholds (Irradiance)\n",
    "            irr_vals = df.iloc[interval]['Irradiance (W/m2)']\n",
    "            T_amb_vals = df.iloc[interval]['Ambient Temperature (C)']\n",
    "            T_wtr_vals = df.iloc[interval]['Inlet Temperature (C)']\n",
    "            flow_vals = df.iloc[interval]['Mass flow (g/s)']\n",
    "            \n",
    "            # 2 percent deviation from interval flow mean allowed\n",
    "            flow_mean = np.mean(flow_vals)\n",
    "            flow_max_lim = flow_mean + flow_mean/50\n",
    "            flow_min_lim = flow_mean - flow_mean/50\n",
    "            flow_max = np.max(flow_vals)\n",
    "            flow_min = np.min(flow_vals)\n",
    "            \n",
    "            # Checking variation limit for temperature and irradiance\n",
    "            irr_var = np.max(irr_vals) - np.min(irr_vals)\n",
    "            T_amb_var = np.max(T_amb_vals) - np.min(T_amb_vals)\n",
    "            T_wtr_var = np.max(T_wtr_vals) - np.min(T_wtr_vals)\n",
    "            \n",
    "            # Datavalues in interval has to meet all conditions to be eligible\n",
    "            if (irr_var <= irr_diff_lim)\\\n",
    "            and (T_amb_var <= T_amb_diff_lim)\\\n",
    "            and (T_wtr_var <= T_wtr_diff_lim)\\\n",
    "            and (flow_max <= flow_max_lim)\\\n",
    "            and (flow_min >= flow_min_lim)\\\n",
    "            and (flow_min >= 0.1):\n",
    "                #appends it to valid intervals if all conditions are met\n",
    "                intervals.append(interval)\n",
    "                \n",
    "            #empties list of valid datapoints and resets counter of valid length\n",
    "            interval = []\n",
    "            interval_len = 0                \n",
    "                \n",
    "        i += 1\n",
    "            \n",
    "    return intervals\n",
    "            "
   ]
  },
  {
   "cell_type": "code",
   "execution_count": 47,
   "metadata": {
    "scrolled": true
   },
   "outputs": [],
   "source": [
    "intervals_2020_indexes = find_intervals(data_2020, \n",
    "                           limits=limits, \n",
    "                           diff_limits=diff_limits,\n",
    "                           period=15)\n"
   ]
  },
  {
   "cell_type": "code",
   "execution_count": 48,
   "metadata": {},
   "outputs": [
    {
     "data": {
      "text/plain": [
       "416"
      ]
     },
     "execution_count": 48,
     "metadata": {},
     "output_type": "execute_result"
    }
   ],
   "source": [
    "len(intervals_2020_indexes)"
   ]
  },
  {
   "cell_type": "code",
   "execution_count": 49,
   "metadata": {},
   "outputs": [],
   "source": [
    "#Irradiance spelled differently in the columns of the datasets, code needs slight changes to run 2021 data\n",
    "#\n",
    "#intervals_2020_indexes = find_intervals(data_2020, \n",
    "#                           limits=limits, \n",
    "#                           diff_limits=diff_limits,\n",
    "#                           period=15)"
   ]
  },
  {
   "cell_type": "code",
   "execution_count": 51,
   "metadata": {},
   "outputs": [],
   "source": [
    "#Converting the list of indexes into a filtered dataset, taking the mean of each 15 min interval as a datapoint\n",
    "filtered_data_2020 = pd.DataFrame(columns=data_2020.columns)\n",
    "\n",
    "for indexes, i in zip(intervals_2020_indexes, range(len(intervals_2020_indexes))):\n",
    "    new_row = {}\n",
    "    for column in data_2020.columns:\n",
    "        new_values = data_2020[column].iloc[indexes].mean(axis=0)\n",
    "        #print(column)\n",
    "        #print(data_2020[column].iloc[indexes])\n",
    "        #print(new_values)\n",
    "        #print('\\n')\n",
    "        new_row[column] = new_values\n",
    "        #print(new_row[column])\n",
    "        #print('\\n')\n",
    "    new_row = pd.DataFrame(new_row, index = [data_2020.index[intervals_2020_indexes[i][0]]])\n",
    "    #print(new_row)\n",
    "    #print('\\n')\n",
    "    filtered_data_2020 = pd.concat([filtered_data_2020, new_row], axis=0) "
   ]
  },
  {
   "cell_type": "code",
   "execution_count": 52,
   "metadata": {},
   "outputs": [],
   "source": [
    "##Converting the list of indexes into a filtered dataset\n",
    "#filtered_data_2020 = pd.DataFrame(columns=data_2020.columns)\n",
    "#\n",
    "#for i in intervals_2020_indexes:\n",
    "#    filtered_data_2020 = pd.concat([filtered_data_2020, data_2020.iloc[i]]) \n",
    "#"
   ]
  },
  {
   "cell_type": "code",
   "execution_count": 53,
   "metadata": {},
   "outputs": [],
   "source": [
    "filtered_data_2020.to_csv('Måledata_mars_juli_2020_filtered.csv')"
   ]
  },
  {
   "cell_type": "code",
   "execution_count": 54,
   "metadata": {},
   "outputs": [],
   "source": [
    "\n",
    "Ac = 67.2 #m^2\n",
    "\n",
    "taualfa = 0.83*0.95\n",
    "\n",
    "Cp = 4.184 #Joulse/K/g\n",
    "\n",
    "#Calculating Efficiency and storing it as a column\n",
    "filtered_data_2020['Efficiency'] = (Cp*filtered_data_2020['Mass flow (g/s)']*(filtered_data_2020['Outlet Temperature (C)'] - filtered_data_2020['Inlet Temperature (C)']))/(Ac*filtered_data_2020['Irradiance (W/m2)'])\n"
   ]
  },
  {
   "cell_type": "code",
   "execution_count": 55,
   "metadata": {},
   "outputs": [
    {
     "data": {
      "text/html": [
       "<div>\n",
       "<style scoped>\n",
       "    .dataframe tbody tr th:only-of-type {\n",
       "        vertical-align: middle;\n",
       "    }\n",
       "\n",
       "    .dataframe tbody tr th {\n",
       "        vertical-align: top;\n",
       "    }\n",
       "\n",
       "    .dataframe thead th {\n",
       "        text-align: right;\n",
       "    }\n",
       "</style>\n",
       "<table border=\"1\" class=\"dataframe\">\n",
       "  <thead>\n",
       "    <tr style=\"text-align: right;\">\n",
       "      <th></th>\n",
       "      <th>Irradiance (W/m2)</th>\n",
       "      <th>Ambient Temperature (C)</th>\n",
       "      <th>Inlet Temperature (C)</th>\n",
       "      <th>Mass flow (g/s)</th>\n",
       "      <th>Outlet Temperature (C)</th>\n",
       "      <th>Efficiency</th>\n",
       "    </tr>\n",
       "  </thead>\n",
       "  <tbody>\n",
       "    <tr>\n",
       "      <th>2020-03-14 10:51:00</th>\n",
       "      <td>803.866667</td>\n",
       "      <td>1.786667</td>\n",
       "      <td>14.740000</td>\n",
       "      <td>321.066667</td>\n",
       "      <td>32.743333</td>\n",
       "      <td>0.447699</td>\n",
       "    </tr>\n",
       "    <tr>\n",
       "      <th>2020-03-14 11:21:00</th>\n",
       "      <td>839.733333</td>\n",
       "      <td>2.213333</td>\n",
       "      <td>14.866667</td>\n",
       "      <td>302.600000</td>\n",
       "      <td>34.640000</td>\n",
       "      <td>0.443639</td>\n",
       "    </tr>\n",
       "    <tr>\n",
       "      <th>2020-03-14 11:43:00</th>\n",
       "      <td>845.400000</td>\n",
       "      <td>2.460000</td>\n",
       "      <td>15.000000</td>\n",
       "      <td>291.133333</td>\n",
       "      <td>35.350000</td>\n",
       "      <td>0.436331</td>\n",
       "    </tr>\n",
       "    <tr>\n",
       "      <th>2020-03-14 11:58:00</th>\n",
       "      <td>847.133333</td>\n",
       "      <td>2.513333</td>\n",
       "      <td>15.013333</td>\n",
       "      <td>286.266667</td>\n",
       "      <td>35.866667</td>\n",
       "      <td>0.438750</td>\n",
       "    </tr>\n",
       "    <tr>\n",
       "      <th>2020-03-16 12:18:00</th>\n",
       "      <td>812.533333</td>\n",
       "      <td>6.526667</td>\n",
       "      <td>15.060000</td>\n",
       "      <td>301.066667</td>\n",
       "      <td>35.773333</td>\n",
       "      <td>0.477853</td>\n",
       "    </tr>\n",
       "    <tr>\n",
       "      <th>...</th>\n",
       "      <td>...</td>\n",
       "      <td>...</td>\n",
       "      <td>...</td>\n",
       "      <td>...</td>\n",
       "      <td>...</td>\n",
       "      <td>...</td>\n",
       "    </tr>\n",
       "    <tr>\n",
       "      <th>2020-07-22 11:53:00</th>\n",
       "      <td>955.933333</td>\n",
       "      <td>17.593333</td>\n",
       "      <td>20.993333</td>\n",
       "      <td>392.733333</td>\n",
       "      <td>42.150000</td>\n",
       "      <td>0.541178</td>\n",
       "    </tr>\n",
       "    <tr>\n",
       "      <th>2020-07-22 13:13:00</th>\n",
       "      <td>1002.666667</td>\n",
       "      <td>19.006667</td>\n",
       "      <td>21.326667</td>\n",
       "      <td>407.400000</td>\n",
       "      <td>43.660000</td>\n",
       "      <td>0.564990</td>\n",
       "    </tr>\n",
       "    <tr>\n",
       "      <th>2020-07-22 13:28:00</th>\n",
       "      <td>1007.400000</td>\n",
       "      <td>19.240000</td>\n",
       "      <td>21.533333</td>\n",
       "      <td>401.866667</td>\n",
       "      <td>43.950000</td>\n",
       "      <td>0.556767</td>\n",
       "    </tr>\n",
       "    <tr>\n",
       "      <th>2020-07-25 10:33:00</th>\n",
       "      <td>808.866667</td>\n",
       "      <td>18.006667</td>\n",
       "      <td>20.560000</td>\n",
       "      <td>409.200000</td>\n",
       "      <td>37.163333</td>\n",
       "      <td>0.522970</td>\n",
       "    </tr>\n",
       "    <tr>\n",
       "      <th>2020-07-30 13:55:00</th>\n",
       "      <td>975.133333</td>\n",
       "      <td>23.053333</td>\n",
       "      <td>21.400000</td>\n",
       "      <td>420.666667</td>\n",
       "      <td>43.053333</td>\n",
       "      <td>0.581596</td>\n",
       "    </tr>\n",
       "  </tbody>\n",
       "</table>\n",
       "<p>416 rows × 6 columns</p>\n",
       "</div>"
      ],
      "text/plain": [
       "                     Irradiance (W/m2)  Ambient Temperature (C)  \\\n",
       "2020-03-14 10:51:00         803.866667                 1.786667   \n",
       "2020-03-14 11:21:00         839.733333                 2.213333   \n",
       "2020-03-14 11:43:00         845.400000                 2.460000   \n",
       "2020-03-14 11:58:00         847.133333                 2.513333   \n",
       "2020-03-16 12:18:00         812.533333                 6.526667   \n",
       "...                                ...                      ...   \n",
       "2020-07-22 11:53:00         955.933333                17.593333   \n",
       "2020-07-22 13:13:00        1002.666667                19.006667   \n",
       "2020-07-22 13:28:00        1007.400000                19.240000   \n",
       "2020-07-25 10:33:00         808.866667                18.006667   \n",
       "2020-07-30 13:55:00         975.133333                23.053333   \n",
       "\n",
       "                     Inlet Temperature (C)  Mass flow (g/s)  \\\n",
       "2020-03-14 10:51:00              14.740000       321.066667   \n",
       "2020-03-14 11:21:00              14.866667       302.600000   \n",
       "2020-03-14 11:43:00              15.000000       291.133333   \n",
       "2020-03-14 11:58:00              15.013333       286.266667   \n",
       "2020-03-16 12:18:00              15.060000       301.066667   \n",
       "...                                    ...              ...   \n",
       "2020-07-22 11:53:00              20.993333       392.733333   \n",
       "2020-07-22 13:13:00              21.326667       407.400000   \n",
       "2020-07-22 13:28:00              21.533333       401.866667   \n",
       "2020-07-25 10:33:00              20.560000       409.200000   \n",
       "2020-07-30 13:55:00              21.400000       420.666667   \n",
       "\n",
       "                     Outlet Temperature (C)  Efficiency  \n",
       "2020-03-14 10:51:00               32.743333    0.447699  \n",
       "2020-03-14 11:21:00               34.640000    0.443639  \n",
       "2020-03-14 11:43:00               35.350000    0.436331  \n",
       "2020-03-14 11:58:00               35.866667    0.438750  \n",
       "2020-03-16 12:18:00               35.773333    0.477853  \n",
       "...                                     ...         ...  \n",
       "2020-07-22 11:53:00               42.150000    0.541178  \n",
       "2020-07-22 13:13:00               43.660000    0.564990  \n",
       "2020-07-22 13:28:00               43.950000    0.556767  \n",
       "2020-07-25 10:33:00               37.163333    0.522970  \n",
       "2020-07-30 13:55:00               43.053333    0.581596  \n",
       "\n",
       "[416 rows x 6 columns]"
      ]
     },
     "execution_count": 55,
     "metadata": {},
     "output_type": "execute_result"
    }
   ],
   "source": [
    "filtered_data_2020"
   ]
  },
  {
   "cell_type": "code",
   "execution_count": 56,
   "metadata": {},
   "outputs": [],
   "source": [
    "x = (filtered_data_2020['Inlet Temperature (C)']- filtered_data_2020['Ambient Temperature (C)'] )/(filtered_data_2020['Irradiance (W/m2)'])"
   ]
  },
  {
   "cell_type": "code",
   "execution_count": 57,
   "metadata": {},
   "outputs": [
    {
     "data": {
      "text/plain": [
       "[<matplotlib.lines.Line2D at 0x2479c00d3c8>]"
      ]
     },
     "execution_count": 57,
     "metadata": {},
     "output_type": "execute_result"
    },
    {
     "data": {
      "image/png": "[encoded data removed]",
      "text/plain": [
       "<Figure size 864x576 with 1 Axes>"
      ]
     },
     "metadata": {
      "needs_background": "light"
     },
     "output_type": "display_data"
    }
   ],
   "source": [
    "\n",
    "fig, ax = plt.subplots(figsize = (12, 8))\n",
    "ax.set_ylim(0,0.7)\n",
    "ax.set_title('Efficiency model of solar heat collector')\n",
    "ax.set_ylabel('Efficiency')\n",
    "ax.set_xlabel('(Inlet Temperature - Ambient Temperature) / Irradiance  [K/W/m^2]')\n",
    "ax.plot(x, filtered_data_2020['Efficiency'], marker='o', linestyle='')"
   ]
  },
  {
   "cell_type": "code",
   "execution_count": 58,
   "metadata": {},
   "outputs": [],
   "source": [
    "linreg = sklinear.LinearRegression().fit(x.values.reshape(-1, 1), filtered_data_2020['Efficiency'])"
   ]
  },
  {
   "cell_type": "code",
   "execution_count": 59,
   "metadata": {},
   "outputs": [],
   "source": [
    "y_pred = linreg.predict(x.values.reshape(-1, 1))"
   ]
  },
  {
   "cell_type": "code",
   "execution_count": 60,
   "metadata": {},
   "outputs": [
    {
     "data": {
      "image/png": "[encoded data removed]",
      "text/plain": [
       "<Figure size 360x288 with 1 Axes>"
      ]
     },
     "metadata": {
      "needs_background": "light"
     },
     "output_type": "display_data"
    }
   ],
   "source": [
    "fig, ax = plt.subplots(figsize = (5, 4))\n",
    "ax.set_ylim(0,0.7)\n",
    "# ax.set_title('Thermal efficiency regression')\n",
    "ax.set_ylabel('η')\n",
    "ax.set_xlabel('(Ti - Ta) / G  [Km^2/W]')\n",
    "ax.plot(x, filtered_data_2020['Efficiency'], marker='o', linestyle='', label= 'data')\n",
    "ax.plot(x, y_pred, linestyle='-', label = 'y = FR*α*τ - FR*U*x ')\n",
    "plt.legend(loc = 'lower left')\n",
    "plt.savefig('Efficiency_model.pdf')"
   ]
  },
  {
   "cell_type": "code",
   "execution_count": 61,
   "metadata": {},
   "outputs": [
    {
     "data": {
      "text/plain": [
       "0.7948234935551545"
      ]
     },
     "execution_count": 61,
     "metadata": {},
     "output_type": "execute_result"
    }
   ],
   "source": [
    "linreg.score(x.values.reshape(-1, 1), filtered_data_2020['Efficiency'])"
   ]
  },
  {
   "cell_type": "code",
   "execution_count": 62,
   "metadata": {},
   "outputs": [],
   "source": [
    "zero = np.array([0])"
   ]
  },
  {
   "cell_type": "code",
   "execution_count": 63,
   "metadata": {},
   "outputs": [],
   "source": [
    "intercept = linreg.predict(zero.reshape(1, -1))"
   ]
  },
  {
   "cell_type": "code",
   "execution_count": 64,
   "metadata": {},
   "outputs": [],
   "source": [
    "stigning = linreg.coef_"
   ]
  },
  {
   "cell_type": "code",
   "execution_count": 65,
   "metadata": {},
   "outputs": [],
   "source": [
    "taualfa = 0.83 * 0.95\n",
    "\n",
    "FRUL = -stigning\n",
    "\n",
    "FRtaualfa = intercept\n",
    "\n",
    "UL = FRUL/(FRtaualfa/taualfa)\n",
    "\n",
    "FR = FRtaualfa/taualfa\n"
   ]
  },
  {
   "cell_type": "markdown",
   "metadata": {},
   "source": [
    "__MOdell Resultater__"
   ]
  },
  {
   "cell_type": "code",
   "execution_count": 66,
   "metadata": {},
   "outputs": [
    {
     "data": {
      "text/plain": [
       "array([0.56449417])"
      ]
     },
     "execution_count": 66,
     "metadata": {},
     "output_type": "execute_result"
    }
   ],
   "source": [
    "FRtaualfa"
   ]
  },
  {
   "cell_type": "code",
   "execution_count": 67,
   "metadata": {},
   "outputs": [
    {
     "data": {
      "text/plain": [
       "array([0.7159089])"
      ]
     },
     "execution_count": 67,
     "metadata": {},
     "output_type": "execute_result"
    }
   ],
   "source": [
    "FR"
   ]
  },
  {
   "cell_type": "code",
   "execution_count": 68,
   "metadata": {},
   "outputs": [
    {
     "data": {
      "text/plain": [
       "array([8.19500415])"
      ]
     },
     "execution_count": 68,
     "metadata": {},
     "output_type": "execute_result"
    }
   ],
   "source": [
    "UL"
   ]
  },
  {
   "cell_type": "code",
   "execution_count": 69,
   "metadata": {},
   "outputs": [
    {
     "data": {
      "text/plain": [
       "array([5.86687644])"
      ]
     },
     "execution_count": 69,
     "metadata": {},
     "output_type": "execute_result"
    }
   ],
   "source": [
    "FR*UL"
   ]
  },
  {
   "cell_type": "code",
   "execution_count": 70,
   "metadata": {},
   "outputs": [],
   "source": [
    "y_pred = linreg.predict(x.values.reshape(-1, 1))"
   ]
  },
  {
   "cell_type": "markdown",
   "metadata": {},
   "source": [
    "__MOdell 2__"
   ]
  },
  {
   "cell_type": "code",
   "execution_count": 74,
   "metadata": {},
   "outputs": [
    {
     "data": {
      "image/png": "[encoded data removed]",
      "text/plain": [
       "<Figure size 576x576 with 1 Axes>"
      ]
     },
     "metadata": {
      "needs_background": "light"
     },
     "output_type": "display_data"
    }
   ],
   "source": [
    "import numpy as np\n",
    "%matplotlib inline\n",
    "import matplotlib.pyplot as plt\n",
    "from scipy.stats import t as t_dbn\n",
    "from scipy.stats import norm as normal_dbn\n",
    "\n",
    "X = x\n",
    "Y = filtered_data_2020['Efficiency'].values\n",
    "f = plt.figure(figsize=(8,8))\n",
    "ax = f.gca()\n",
    "ax.scatter(X, Y)\n",
    "ax.set_xlabel('Weight')\n",
    "ax.set_ylabel('Length');"
   ]
  },
  {
   "cell_type": "code",
   "execution_count": 75,
   "metadata": {},
   "outputs": [],
   "source": [
    "def fit_least_squares(X, Y):\n",
    "    \n",
    "    X = np.asarray(X)\n",
    "    n = X.shape[0]\n",
    "    Y = np.asarray(Y)\n",
    "    X_bar = np.mean(X)\n",
    "    Y_bar = np.mean(Y)\n",
    "    \n",
    "    beta_hat_1 = (np.sum((X - X_bar) * (Y - Y_bar)) / \n",
    "                  np.sum((X - X_bar)**2))\n",
    "    beta_hat_0 = Y_bar - beta_hat_1 * X_bar\n",
    "    \n",
    "    resid = Y - beta_hat_0 - beta_hat_1 * X\n",
    "    sigma_hat = np.sqrt(np.sum(resid**2) / (n - 2))\n",
    "    \n",
    "    return np.array([beta_hat_0, beta_hat_1]), sigma_hat, resid"
   ]
  },
  {
   "cell_type": "code",
   "execution_count": 76,
   "metadata": {},
   "outputs": [
    {
     "data": {
      "text/plain": [
       "(array([ 0.56449417, -5.86687644]), 0.016028255096936724)"
      ]
     },
     "execution_count": 76,
     "metadata": {},
     "output_type": "execute_result"
    }
   ],
   "source": [
    "results = fit_least_squares(X, Y)\n",
    "results[0], results[1]"
   ]
  },
  {
   "cell_type": "code",
   "execution_count": 77,
   "metadata": {},
   "outputs": [
    {
     "data": {
      "image/png": "[encoded data removed]",
      "text/plain": [
       "<Figure size 576x576 with 1 Axes>"
      ]
     },
     "execution_count": 77,
     "metadata": {},
     "output_type": "execute_result"
    }
   ],
   "source": [
    "X_min, X_max = X.min(), X.max()\n",
    "beta_hat_0, beta_hat_1 = results[0]\n",
    "Y_max = beta_hat_0 + beta_hat_1 * X_max\n",
    "Y_min = beta_hat_0 + beta_hat_1 * X_min\n",
    "\n",
    "ax.plot([X_min, X_max], [Y_min, Y_max], 'k--')\n",
    "f"
   ]
  },
  {
   "cell_type": "code",
   "execution_count": 78,
   "metadata": {},
   "outputs": [
    {
     "name": "stdout",
     "output_type": "stream",
     "text": [
      "SD(beta_hat_1):  0.14649919529202687 0.14649919529202687\n",
      "SD(beta_hat_0):  0.0007919011103104905\n"
     ]
    }
   ],
   "source": [
    "def compute_std(X, Y, results, linear_comb):\n",
    "    beta_hat, sigma_hat, resid = results\n",
    "    X = np.asarray(X)\n",
    "    X_bar = X.mean()\n",
    "    \n",
    "    n = X.shape[0]\n",
    "    a, b = linear_comb\n",
    "\n",
    "    var = sigma_hat**2 * ((a**2)/n + (b - a * X_bar)**2 / np.sum((X - X_bar)**2))\n",
    "    \n",
    "    return np.sqrt(var)\n",
    "\n",
    "X_bar = np.mean(X)\n",
    "\n",
    "print('SD(beta_hat_1): ', compute_std(X, Y, results, [0, 1]), results[1] / np.sqrt(np.sum((X - X_bar)**2)))\n",
    "print('SD(beta_hat_0): ', compute_std(X, Y, results, [1, 0]))\n"
   ]
  },
  {
   "cell_type": "code",
   "execution_count": 79,
   "metadata": {},
   "outputs": [],
   "source": [
    "taualfa = 0.83 * 0.95\n",
    "\n",
    "FRUL2 = -beta_hat_1\n",
    "\n",
    "FRtaualfa2 = beta_hat_0\n",
    "\n",
    "UL2 = FRUL/(FRtaualfa/taualfa)\n",
    "\n",
    "FR2 = FRtaualfa/taualfa"
   ]
  },
  {
   "cell_type": "code",
   "execution_count": 80,
   "metadata": {},
   "outputs": [
    {
     "name": "stdout",
     "output_type": "stream",
     "text": [
      "[5.86687644] 5.866876444245139\n",
      "[0.7159089] [0.7159089]\n",
      "[8.19500415] [8.19500415]\n"
     ]
    }
   ],
   "source": [
    "print(FRUL, FRUL2)\n",
    "print(FR, FR2)\n",
    "print(UL, UL2)"
   ]
  },
  {
   "cell_type": "markdown",
   "metadata": {},
   "source": [
    "Errors\n"
   ]
  },
  {
   "cell_type": "code",
   "execution_count": 81,
   "metadata": {},
   "outputs": [],
   "source": [
    "# from scipy.stats import t\n",
    "# \n",
    "# s_1= compute_std(X, Y, results, [0, 1])\n",
    "# s_0 =  compute_std(X, Y, results, [1, 0])\n",
    "# \n",
    "# \n",
    "# beta0_95_min = beta_hat_0 - 0.25\n",
    "# m = np.mean(X)\n",
    "# dof = len(x-1)\n",
    "# confidence = 0.95\n",
    "# t_crit = np.abs(t.ppf((1-confidence)/2,dof))\n",
    "# x_m = [(x - m)**2 for x in X]\n",
    "# X_min = X.min()\n",
    "# \n",
    "# p2 = np.sqrt((1/dof)+(X_min-m)**(2)/(np.sum(x_m)))\n",
    "# \n",
    "# beta0_uncertainty = t_crit * s_0\n",
    "# \n",
    "# beta1_uncertainty = t_crit * (s_1)/(np.sum(x_m))"
   ]
  },
  {
   "cell_type": "code",
   "execution_count": 82,
   "metadata": {},
   "outputs": [
    {
     "data": {
      "text/plain": [
       "0.0015566264749162727"
      ]
     },
     "execution_count": 82,
     "metadata": {},
     "output_type": "execute_result"
    }
   ],
   "source": [
    "# beta0_uncertainty"
   ]
  },
  {
   "cell_type": "code",
   "execution_count": 83,
   "metadata": {},
   "outputs": [
    {
     "data": {
      "text/plain": [
       "24.05728906422803"
      ]
     },
     "execution_count": 83,
     "metadata": {},
     "output_type": "execute_result"
    }
   ],
   "source": [
    "#beta1_uncertainty"
   ]
  },
  {
   "cell_type": "code",
   "execution_count": 54,
   "metadata": {},
   "outputs": [
    {
     "data": {
      "text/plain": [
       "0.2879709637685521"
      ]
     },
     "execution_count": 54,
     "metadata": {},
     "output_type": "execute_result"
    }
   ],
   "source": [
    "# quantile = t_dbn.ppf(0.975, len(x))\n",
    "# SD_beta_hat_1= compute_std(X, Y, results, [0, 1])\n",
    "# uncertainty_beta_hat_1 = quantile * SD_beta_hat_1\n",
    "# uncertainty_beta_hat_1"
   ]
  },
  {
   "cell_type": "markdown",
   "metadata": {},
   "source": [
    "_3.2 Test av modell_\n"
   ]
  },
  {
   "cell_type": "code",
   "execution_count": 171,
   "metadata": {},
   "outputs": [
    {
     "data": {
      "text/html": [
       "<div>\n",
       "<style scoped>\n",
       "    .dataframe tbody tr th:only-of-type {\n",
       "        vertical-align: middle;\n",
       "    }\n",
       "\n",
       "    .dataframe tbody tr th {\n",
       "        vertical-align: top;\n",
       "    }\n",
       "\n",
       "    .dataframe thead th {\n",
       "        text-align: right;\n",
       "    }\n",
       "</style>\n",
       "<table border=\"1\" class=\"dataframe\">\n",
       "  <thead>\n",
       "    <tr style=\"text-align: right;\">\n",
       "      <th></th>\n",
       "      <th>Irradiance (W/m2)</th>\n",
       "      <th>Ambient Temperature (C)</th>\n",
       "      <th>Inlet Temperature (C)</th>\n",
       "      <th>Mass flow (g/s)</th>\n",
       "      <th>Outlet Temperature (C)</th>\n",
       "    </tr>\n",
       "    <tr>\n",
       "      <th>Time</th>\n",
       "      <th></th>\n",
       "      <th></th>\n",
       "      <th></th>\n",
       "      <th></th>\n",
       "      <th></th>\n",
       "    </tr>\n",
       "  </thead>\n",
       "  <tbody>\n",
       "    <tr>\n",
       "      <th>2021-03-04 09:46:00</th>\n",
       "      <td>547.0</td>\n",
       "      <td>1.2</td>\n",
       "      <td>17.3</td>\n",
       "      <td>326.0</td>\n",
       "      <td>18.35</td>\n",
       "    </tr>\n",
       "    <tr>\n",
       "      <th>2021-03-04 09:47:00</th>\n",
       "      <td>550.0</td>\n",
       "      <td>1.2</td>\n",
       "      <td>16.9</td>\n",
       "      <td>320.0</td>\n",
       "      <td>18.30</td>\n",
       "    </tr>\n",
       "    <tr>\n",
       "      <th>2021-03-04 09:48:00</th>\n",
       "      <td>552.0</td>\n",
       "      <td>1.3</td>\n",
       "      <td>16.3</td>\n",
       "      <td>260.0</td>\n",
       "      <td>18.35</td>\n",
       "    </tr>\n",
       "    <tr>\n",
       "      <th>2021-03-04 09:49:00</th>\n",
       "      <td>554.0</td>\n",
       "      <td>1.3</td>\n",
       "      <td>16.0</td>\n",
       "      <td>239.0</td>\n",
       "      <td>26.60</td>\n",
       "    </tr>\n",
       "    <tr>\n",
       "      <th>2021-03-04 09:50:00</th>\n",
       "      <td>558.0</td>\n",
       "      <td>1.3</td>\n",
       "      <td>15.9</td>\n",
       "      <td>220.0</td>\n",
       "      <td>40.00</td>\n",
       "    </tr>\n",
       "    <tr>\n",
       "      <th>...</th>\n",
       "      <td>...</td>\n",
       "      <td>...</td>\n",
       "      <td>...</td>\n",
       "      <td>...</td>\n",
       "      <td>...</td>\n",
       "    </tr>\n",
       "    <tr>\n",
       "      <th>2021-07-31 17:44:00</th>\n",
       "      <td>147.0</td>\n",
       "      <td>18.7</td>\n",
       "      <td>26.5</td>\n",
       "      <td>155.0</td>\n",
       "      <td>31.50</td>\n",
       "    </tr>\n",
       "    <tr>\n",
       "      <th>2021-07-31 17:45:00</th>\n",
       "      <td>147.0</td>\n",
       "      <td>18.7</td>\n",
       "      <td>27.0</td>\n",
       "      <td>120.0</td>\n",
       "      <td>31.25</td>\n",
       "    </tr>\n",
       "    <tr>\n",
       "      <th>2021-07-31 17:46:00</th>\n",
       "      <td>145.0</td>\n",
       "      <td>18.7</td>\n",
       "      <td>27.9</td>\n",
       "      <td>96.0</td>\n",
       "      <td>30.95</td>\n",
       "    </tr>\n",
       "    <tr>\n",
       "      <th>2021-07-31 17:47:00</th>\n",
       "      <td>144.0</td>\n",
       "      <td>18.6</td>\n",
       "      <td>28.7</td>\n",
       "      <td>55.0</td>\n",
       "      <td>30.70</td>\n",
       "    </tr>\n",
       "    <tr>\n",
       "      <th>2021-07-31 17:48:00</th>\n",
       "      <td>147.0</td>\n",
       "      <td>18.5</td>\n",
       "      <td>28.8</td>\n",
       "      <td>3.0</td>\n",
       "      <td>30.50</td>\n",
       "    </tr>\n",
       "  </tbody>\n",
       "</table>\n",
       "<p>61455 rows × 5 columns</p>\n",
       "</div>"
      ],
      "text/plain": [
       "                     Irradiance (W/m2)  Ambient Temperature (C)  \\\n",
       "Time                                                              \n",
       "2021-03-04 09:46:00              547.0                      1.2   \n",
       "2021-03-04 09:47:00              550.0                      1.2   \n",
       "2021-03-04 09:48:00              552.0                      1.3   \n",
       "2021-03-04 09:49:00              554.0                      1.3   \n",
       "2021-03-04 09:50:00              558.0                      1.3   \n",
       "...                                ...                      ...   \n",
       "2021-07-31 17:44:00              147.0                     18.7   \n",
       "2021-07-31 17:45:00              147.0                     18.7   \n",
       "2021-07-31 17:46:00              145.0                     18.7   \n",
       "2021-07-31 17:47:00              144.0                     18.6   \n",
       "2021-07-31 17:48:00              147.0                     18.5   \n",
       "\n",
       "                     Inlet Temperature (C)  Mass flow (g/s)  \\\n",
       "Time                                                          \n",
       "2021-03-04 09:46:00                   17.3            326.0   \n",
       "2021-03-04 09:47:00                   16.9            320.0   \n",
       "2021-03-04 09:48:00                   16.3            260.0   \n",
       "2021-03-04 09:49:00                   16.0            239.0   \n",
       "2021-03-04 09:50:00                   15.9            220.0   \n",
       "...                                    ...              ...   \n",
       "2021-07-31 17:44:00                   26.5            155.0   \n",
       "2021-07-31 17:45:00                   27.0            120.0   \n",
       "2021-07-31 17:46:00                   27.9             96.0   \n",
       "2021-07-31 17:47:00                   28.7             55.0   \n",
       "2021-07-31 17:48:00                   28.8              3.0   \n",
       "\n",
       "                     Outlet Temperature (C)  \n",
       "Time                                         \n",
       "2021-03-04 09:46:00                   18.35  \n",
       "2021-03-04 09:47:00                   18.30  \n",
       "2021-03-04 09:48:00                   18.35  \n",
       "2021-03-04 09:49:00                   26.60  \n",
       "2021-03-04 09:50:00                   40.00  \n",
       "...                                     ...  \n",
       "2021-07-31 17:44:00                   31.50  \n",
       "2021-07-31 17:45:00                   31.25  \n",
       "2021-07-31 17:46:00                   30.95  \n",
       "2021-07-31 17:47:00                   30.70  \n",
       "2021-07-31 17:48:00                   30.50  \n",
       "\n",
       "[61455 rows x 5 columns]"
      ]
     },
     "execution_count": 171,
     "metadata": {},
     "output_type": "execute_result"
    }
   ],
   "source": [
    "#Calculating energy production, efficiency and x variable for prediction\n",
    "data_2021 = pd.read_csv('Måledata_mars_juli_2021.csv',index_col = 'Time')\n",
    "data_2021.index = pd.to_datetime(data_2021.index)\n",
    "data_2021.rename(columns = {'Irradience (W/m2)':'Irradiance (W/m2)'}, inplace = True)\n",
    "data_2021['Irradiance (W/m2)'].dropna(inplace=True)\n",
    "data_2021 = data_2021[data_2021['Mass flow (g/s)'] > 0]\n",
    "data_2021 = data_2021[data_2021['Irradiance (W/m2)'] > 0]\n",
    "data_2021"
   ]
  },
  {
   "cell_type": "code",
   "execution_count": 223,
   "metadata": {},
   "outputs": [],
   "source": [
    "taualfa = 0.83*0.95\n",
    "\n",
    "data_2021['Q'] = Cp*data_2021['Mass flow (g/s)']*(data_2021['Outlet Temperature (C)'] - data_2021['Inlet Temperature (C)'])\n",
    "\n",
    "data_2021['efficiency_pred'] =  FR*taualfa - FR*UL*((data_2021['Inlet Temperature (C)'] - data_2021['Ambient Temperature (C)'])/data_2021['Irradiance (W/m2)'])\n",
    "data_2021['Q_pred'] = Ac*data_2021['efficiency_pred'].multiply(data_2021['Irradiance (W/m2)'], axis = 'index')\n",
    "data_2021['Q_naive'] =data_2021['Irradiance (W/m2)'].multiply(0.5 * Ac, axis = 'index')\n",
    "\n",
    "data_2021['Power produced'] = data_2021['Q']*60/3600000\n",
    "data_2021['Power predicted'] = data_2021['Q_pred']*60/3600000\n",
    "data_2021['Power naive'] = data_2021['Q_naive']*60/3600000\n"
   ]
  },
  {
   "cell_type": "code",
   "execution_count": 232,
   "metadata": {},
   "outputs": [],
   "source": [
    "\n",
    "y_pred = (data_2021['Power predicted'][data_2021['Q'] > 0]).resample('D').sum()\n",
    "y_truth = (data_2021['Power produced'][data_2021['Q'] > 0]).resample('D').sum()\n",
    "y_naive = (data_2021['Power naive'][data_2021['Q'] > 0]).resample('D').sum()\n",
    "\n",
    "\n",
    "model_mean_abs_rel_error_2021 = abs((y_pred - y_truth)/y_truth).sum()/len(y_pred)\n",
    "naive_mean_abs_rel_error_2021 = abs((y_naive - y_truth)/y_truth).sum()/len(y_pred)\n",
    "\n",
    "model_abs_rel_error_2021 = abs((y_pred - y_truth)/y_truth)\n",
    "naive_abs_rel_error_2021 = abs((y_naive - y_truth)/y_truth)\n",
    "  "
   ]
  },
  {
   "cell_type": "code",
   "execution_count": 234,
   "metadata": {},
   "outputs": [
    {
     "data": {
      "text/plain": [
       "0.11598913383661305"
      ]
     },
     "execution_count": 234,
     "metadata": {},
     "output_type": "execute_result"
    }
   ],
   "source": [
    "naive_mean_abs_rel_error_2021"
   ]
  },
  {
   "cell_type": "code",
   "execution_count": 235,
   "metadata": {},
   "outputs": [
    {
     "data": {
      "text/plain": [
       "0.053799537566731934"
      ]
     },
     "execution_count": 235,
     "metadata": {},
     "output_type": "execute_result"
    }
   ],
   "source": [
    "model_mean_abs_rel_error_2021"
   ]
  },
  {
   "cell_type": "code",
   "execution_count": 252,
   "metadata": {},
   "outputs": [
    {
     "data": {
      "image/png": "[encoded data removed]",
      "text/plain": [
       "<Figure size 360x360 with 1 Axes>"
      ]
     },
     "metadata": {
      "needs_background": "light"
     },
     "output_type": "display_data"
    }
   ],
   "source": [
    "plt.figure(figsize=(5,5))\n",
    "plt.plot(y_pred, y_truth, marker= 'o', linestyle='', label='model' )\n",
    "plt.plot(y_naive, y_truth, marker= 'o', linestyle='' , label = 'naive')\n",
    "plt.plot(y_truth, y_truth, label = 'perfect prediction')\n",
    "plt.legend()\n",
    "#plt.xlim(0,1.75*1e7)\n",
    "#plt.ylim(0,1.75*1e7)\n",
    "# plt.title('Prediciton of daily energy')\n",
    "plt.ylabel('Actual Power [kWh]')\n",
    "plt.xlabel('Predicted Power [kWh]')\n",
    "#plt.yscale('log')\n",
    "#plt.xscale('log')\n",
    "plt.savefig('Prediction.pdf')\n"
   ]
  },
  {
   "cell_type": "code",
   "execution_count": 239,
   "metadata": {},
   "outputs": [
    {
     "data": {
      "image/png": "[encoded data removed]",
      "text/plain": [
       "<Figure size 360x360 with 1 Axes>"
      ]
     },
     "metadata": {
      "needs_background": "light"
     },
     "output_type": "display_data"
    }
   ],
   "source": [
    "plt.figure(figsize=(5,5))\n",
    "plt.plot(y_truth, model_abs_rel_error_2021, marker= 'o', linestyle='', label='model' )\n",
    "plt.plot(y_truth, naive_abs_rel_error_2021, marker= 'o', linestyle='' , label = 'naive')\n",
    "plt.legend()\n",
    "#plt.xlim(0,1.75*1e7)\n",
    "plt.ylim(0,0.3)\n",
    "#plt.title('Error of prediciton of daily energy')\n",
    "plt.ylabel('Relative Error')\n",
    "plt.xlabel('Power [kWh]')\n",
    "plt.savefig('relative_error.pdf')\n"
   ]
  },
  {
   "cell_type": "code",
   "execution_count": null,
   "metadata": {},
   "outputs": [],
   "source": []
  }
 ],
 "metadata": {
  "kernelspec": {
   "display_name": "Python 3",
   "language": "python",
   "name": "python3"
  },
  "language_info": {
   "codemirror_mode": {
    "name": "ipython",
    "version": 3
   },
   "file_extension": ".py",
   "mimetype": "text/x-python",
   "name": "python",
   "nbconvert_exporter": "python",
   "pygments_lexer": "ipython3",
   "version": "3.7.9"
  }
 },
 "nbformat": 4,
 "nbformat_minor": 4
}
